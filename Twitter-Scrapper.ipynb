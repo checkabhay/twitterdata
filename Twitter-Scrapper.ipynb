{
 "cells": [
  {
   "cell_type": "code",
   "execution_count": 102,
   "id": "854a456c",
   "metadata": {},
   "outputs": [],
   "source": [
    "import urllib\n",
    "import csv\n",
    "import tweepy\n",
    "import os\n",
    "from twitter import *\n",
    "# Create variable\n",
    "file_name = 'keys.py'"
   ]
  },
  {
   "cell_type": "code",
   "execution_count": 103,
   "id": "5cd2f25f",
   "metadata": {},
   "outputs": [
    {
     "name": "stdout",
     "output_type": "stream",
     "text": [
      "Overwriting keys.py\n"
     ]
    }
   ],
   "source": [
    "%%writefile {file_name}\n",
    "consumer_key=\"2rU3FraIfsyBYIG0JaGjB62w8\"\n",
    "consumer_secret=\"Fjm40ZKhf5gaa5qBXpxBDUEbMy9CuO2a1CEnafBPIc6w03seCo\"\n",
    "access_token=\"1102996318203441153-xaATIwMJikWShszvmUoHDL3XNtwVlE\"\n",
    "access_token_secret=\"jinTjoQWJigEF9raMm9cFcj2rb5oFFKGbCVlauPJ2ERxx\"\n",
    "bearer_token=\"AAAAAAAAAAAAAAAAAAAAAA92ggEAAAAAVkM7f3JjbKzW8h6DZSjbWXAZR8o%3DdkGOdKQNj4X2ZQapJPjzyFc0B16s1gZI75q2G7MvOQNZzlZ8pl\""
   ]
  },
  {
   "cell_type": "code",
   "execution_count": 104,
   "id": "e5b1acef",
   "metadata": {},
   "outputs": [
    {
     "name": "stdout",
     "output_type": "stream",
     "text": [
      "4.10.0\n"
     ]
    },
    {
     "data": {
      "text/plain": [
       "'C:\\\\Users\\\\Tnluser'"
      ]
     },
     "execution_count": 104,
     "metadata": {},
     "output_type": "execute_result"
    }
   ],
   "source": [
    "from keys import *\n",
    "print(tweepy.__version__)\n",
    "os.getcwd ()"
   ]
  },
  {
   "cell_type": "code",
   "execution_count": 75,
   "id": "151acbbb",
   "metadata": {},
   "outputs": [],
   "source": [
    "userID = \"Flipkart\""
   ]
  },
  {
   "cell_type": "code",
   "execution_count": 88,
   "id": "571da765",
   "metadata": {},
   "outputs": [],
   "source": [
    "# Authorize our Twitter credentials\n",
    "auth = tweepy.OAuthHandler(consumer_key, consumer_secret)\n",
    "auth.set_access_token(access_token, access_token_secret)\n",
    "api = tweepy.API(auth)\n",
    "\n",
    "tweets = api.user_timeline(screen_name=userID, \n",
    "                           # 200 is the maximum allowed count\n",
    "                           count=200,\n",
    "                           include_rts = False,\n",
    "                           # Necessary to keep full_text \n",
    "                           # otherwise only the first 140 words are extracted\n",
    "                           tweet_mode = 'extended'\n",
    "                           )"
   ]
  },
  {
   "cell_type": "code",
   "execution_count": 89,
   "id": "8cc1fb25",
   "metadata": {},
   "outputs": [
    {
     "name": "stdout",
     "output_type": "stream",
     "text": [
      "ID: 1583445552233971712\n",
      "2022-10-21 13:10:13+00:00\n",
      "Celebrate this Diwali with Flipkart Camera &amp; experience shopping like never before. \n",
      "#FlipkartCamera #ARshopping #Mobile #Diwali2022 #Diwali https://t.co/qlAJz7L209\n",
      "\n",
      "\n",
      "ID: 1582669430018174977\n",
      "2022-10-19 09:46:11+00:00\n",
      "@0xFireDrops Online shopping se Flipverse shopping pe Flip nahi kiya to kya kiya\n",
      "#GetFlipped #Flipverse\n",
      "\n",
      "\n",
      "ID: 1582268910363033601\n",
      "2022-10-18 07:14:40+00:00\n",
      "@Lenskart_com It's time to get your #EyeCheck so you can identify friends who would send gifts with COD option 🫵\n",
      "#VisionForBillion\n",
      "\n",
      "\n"
     ]
    }
   ],
   "source": [
    "for info in tweets[:3]:\n",
    "     print(\"ID: {}\".format(info.id))\n",
    "     print(info.created_at)\n",
    "     print(info.full_text)\n",
    "     print(\"\\n\")"
   ]
  },
  {
   "cell_type": "code",
   "execution_count": 99,
   "id": "a0e7800c",
   "metadata": {},
   "outputs": [
    {
     "ename": "IndexError",
     "evalue": "list index out of range",
     "output_type": "error",
     "traceback": [
      "\u001b[1;31m---------------------------------------------------------------------------\u001b[0m",
      "\u001b[1;31mIndexError\u001b[0m                                Traceback (most recent call last)",
      "\u001b[1;32m~\\AppData\\Local\\Temp/ipykernel_28708/3836466713.py\u001b[0m in \u001b[0;36m<module>\u001b[1;34m\u001b[0m\n\u001b[0;32m      1\u001b[0m \u001b[0mall_tweets\u001b[0m \u001b[1;33m=\u001b[0m \u001b[1;33m[\u001b[0m\u001b[1;33m]\u001b[0m\u001b[1;33m\u001b[0m\u001b[1;33m\u001b[0m\u001b[0m\n\u001b[0;32m      2\u001b[0m \u001b[0mall_tweets\u001b[0m\u001b[1;33m.\u001b[0m\u001b[0mextend\u001b[0m\u001b[1;33m(\u001b[0m\u001b[0mtweets\u001b[0m\u001b[1;33m)\u001b[0m\u001b[1;33m\u001b[0m\u001b[1;33m\u001b[0m\u001b[0m\n\u001b[1;32m----> 3\u001b[1;33m \u001b[0moldest_id\u001b[0m \u001b[1;33m=\u001b[0m \u001b[0mtweets\u001b[0m\u001b[1;33m[\u001b[0m\u001b[1;33m-\u001b[0m\u001b[1;36m1\u001b[0m\u001b[1;33m]\u001b[0m\u001b[1;33m.\u001b[0m\u001b[0mid\u001b[0m\u001b[1;33m\u001b[0m\u001b[1;33m\u001b[0m\u001b[0m\n\u001b[0m\u001b[0;32m      4\u001b[0m \u001b[1;32mwhile\u001b[0m \u001b[1;32mTrue\u001b[0m\u001b[1;33m:\u001b[0m\u001b[1;33m\u001b[0m\u001b[1;33m\u001b[0m\u001b[0m\n\u001b[0;32m      5\u001b[0m     tweets = api.user_timeline(screen_name=userID, \n",
      "\u001b[1;31mIndexError\u001b[0m: list index out of range"
     ]
    }
   ],
   "source": [
    "all_tweets = []\n",
    "all_tweets.extend(tweets)\n",
    "oldest_id = tweets[-1].id\n",
    "while True:\n",
    "    tweets = api.user_timeline(screen_name=userID, \n",
    "                           # 200 is the maximum allowed count\n",
    "                           count=200,\n",
    "                           include_rts = False,\n",
    "                           max_id = oldest_id - 1,\n",
    "                           # Necessary to keep full_text \n",
    "                           # otherwise only the first 140 words are extracted\n",
    "                           tweet_mode = 'extended'\n",
    "                           )\n",
    "    if len(tweets) == 0:\n",
    "        break\n",
    "    oldest_id = tweets[-1].id\n",
    "    all_tweets.extend(tweets)\n",
    "    print('N of tweets downloaded till now {}'.format(len(all_tweets)))\n",
    "    tweet.full_text.encode('utf-8')"
   ]
  },
  {
   "cell_type": "code",
   "execution_count": 100,
   "id": "c344d12f",
   "metadata": {},
   "outputs": [
    {
     "ename": "NameError",
     "evalue": "name 'tweet' is not defined",
     "output_type": "error",
     "traceback": [
      "\u001b[1;31m---------------------------------------------------------------------------\u001b[0m",
      "\u001b[1;31mNameError\u001b[0m                                 Traceback (most recent call last)",
      "\u001b[1;32m~\\AppData\\Local\\Temp/ipykernel_28708/1430104314.py\u001b[0m in \u001b[0;36m<module>\u001b[1;34m\u001b[0m\n\u001b[1;32m----> 1\u001b[1;33m \u001b[0mtweet\u001b[0m\u001b[1;33m.\u001b[0m\u001b[0mfull_text\u001b[0m\u001b[1;33m.\u001b[0m\u001b[0mencode\u001b[0m\u001b[1;33m(\u001b[0m\u001b[1;34m'utf-8'\u001b[0m\u001b[1;33m)\u001b[0m\u001b[1;33m\u001b[0m\u001b[1;33m\u001b[0m\u001b[0m\n\u001b[0m\u001b[0;32m      2\u001b[0m \u001b[1;31m#outtweets = [[tweet.full_text.encode('utf-8')] for tweet in all_tweets]\u001b[0m\u001b[1;33m\u001b[0m\u001b[1;33m\u001b[0m\u001b[0m\n",
      "\u001b[1;31mNameError\u001b[0m: name 'tweet' is not defined"
     ]
    }
   ],
   "source": [
    "tweet.full_text.encode('utf-8')\n",
    "#outtweets = [[tweet.full_text.encode('utf-8')] for tweet in all_tweets]"
   ]
  },
  {
   "cell_type": "code",
   "execution_count": 95,
   "id": "76cf5541",
   "metadata": {},
   "outputs": [],
   "source": [
    "#outtweets = [[tweet.full_text.encode('utf-8')] for tweet in all_tweets]\n",
    "#screen_name = \"Flipkart-1\"\n",
    "#write the csv  \n",
    "#with open('%s_tweets.csv' %screen_name, 'wt') as f:\n",
    "#    writer = csv.writer(f)\n",
    "#    writer.writerow([\"text\"])\n",
    "#   writer.writerows(outtweets)"
   ]
  },
  {
   "cell_type": "code",
   "execution_count": 96,
   "id": "e13fd2db",
   "metadata": {},
   "outputs": [
    {
     "data": {
      "text/html": [
       "<div>\n",
       "<style scoped>\n",
       "    .dataframe tbody tr th:only-of-type {\n",
       "        vertical-align: middle;\n",
       "    }\n",
       "\n",
       "    .dataframe tbody tr th {\n",
       "        vertical-align: top;\n",
       "    }\n",
       "\n",
       "    .dataframe thead th {\n",
       "        text-align: right;\n",
       "    }\n",
       "</style>\n",
       "<table border=\"1\" class=\"dataframe\">\n",
       "  <thead>\n",
       "    <tr style=\"text-align: right;\">\n",
       "      <th></th>\n",
       "      <th>id</th>\n",
       "      <th>created_at</th>\n",
       "      <th>favorite_count</th>\n",
       "      <th>retweet_count</th>\n",
       "      <th>text</th>\n",
       "    </tr>\n",
       "  </thead>\n",
       "  <tbody>\n",
       "    <tr>\n",
       "      <th>0</th>\n",
       "      <td>1583445552233971712</td>\n",
       "      <td>2022-10-21 13:10:13+00:00</td>\n",
       "      <td>124</td>\n",
       "      <td>16</td>\n",
       "      <td>Celebrate this Diwali with Flipkart Camera &amp;am...</td>\n",
       "    </tr>\n",
       "    <tr>\n",
       "      <th>1</th>\n",
       "      <td>1582669430018174977</td>\n",
       "      <td>2022-10-19 09:46:11+00:00</td>\n",
       "      <td>12</td>\n",
       "      <td>4</td>\n",
       "      <td>@0xFireDrops Online shopping se Flipverse shop...</td>\n",
       "    </tr>\n",
       "    <tr>\n",
       "      <th>2</th>\n",
       "      <td>1582268910363033601</td>\n",
       "      <td>2022-10-18 07:14:40+00:00</td>\n",
       "      <td>4</td>\n",
       "      <td>0</td>\n",
       "      <td>@Lenskart_com It's time to get your #EyeCheck ...</td>\n",
       "    </tr>\n",
       "  </tbody>\n",
       "</table>\n",
       "</div>"
      ],
      "text/plain": [
       "                    id                created_at  favorite_count  \\\n",
       "0  1583445552233971712 2022-10-21 13:10:13+00:00             124   \n",
       "1  1582669430018174977 2022-10-19 09:46:11+00:00              12   \n",
       "2  1582268910363033601 2022-10-18 07:14:40+00:00               4   \n",
       "\n",
       "   retweet_count                                               text  \n",
       "0             16  Celebrate this Diwali with Flipkart Camera &am...  \n",
       "1              4  @0xFireDrops Online shopping se Flipverse shop...  \n",
       "2              0  @Lenskart_com It's time to get your #EyeCheck ...  "
      ]
     },
     "execution_count": 96,
     "metadata": {},
     "output_type": "execute_result"
    }
   ],
   "source": [
    "#transform the tweepy tweets into a 2D array that will populate the csv\t\n",
    "from pandas import DataFrame\n",
    "outtweets = [[tweet.id_str, \n",
    "              tweet.created_at, \n",
    "              tweet.favorite_count, \n",
    "              tweet.retweet_count, \n",
    "              tweet.full_text.encode(\"utf-8\").decode(\"utf-8\")] \n",
    "             for idx,tweet in enumerate(all_tweets)]\n",
    "df = DataFrame(outtweets,columns=[\"id\",\"created_at\",\"favorite_count\",\"retweet_count\", \"text\"])\n",
    "df.to_csv('%s_tweets2.csv' % userID,index=False)\n",
    "df.head(3)"
   ]
  },
  {
   "cell_type": "code",
   "execution_count": 97,
   "id": "f4f4d9e6",
   "metadata": {},
   "outputs": [
    {
     "name": "stdout",
     "output_type": "stream",
     "text": [
      " Volume in drive C is Windows\n",
      " Volume Serial Number is 2E54-0FC2\n",
      "\n",
      " Directory of C:\\Users\\Tnluser\n",
      "\n",
      "22-10-2022  23:08           577,804 Flipkart_tweets.csv\n",
      "22-10-2022  23:43           576,673 Flipkart_tweets1.csv\n",
      "23-10-2022  07:54           577,804 Flipkart_tweets2.csv\n",
      "22-10-2022  23:33           474,484 Flipkart-1_tweets.csv\n",
      "05-09-2022  17:06             1,728 tweets-obama.csv\n",
      "               5 File(s)      2,208,493 bytes\n",
      "               0 Dir(s)  346,440,171,520 bytes free\n"
     ]
    }
   ],
   "source": [
    "ls *.csv"
   ]
  },
  {
   "cell_type": "code",
   "execution_count": null,
   "id": "20c7e052",
   "metadata": {},
   "outputs": [],
   "source": []
  }
 ],
 "metadata": {
  "kernelspec": {
   "display_name": "Python 3 (ipykernel)",
   "language": "python",
   "name": "python3"
  },
  "language_info": {
   "codemirror_mode": {
    "name": "ipython",
    "version": 3
   },
   "file_extension": ".py",
   "mimetype": "text/x-python",
   "name": "python",
   "nbconvert_exporter": "python",
   "pygments_lexer": "ipython3",
   "version": "3.9.7"
  }
 },
 "nbformat": 4,
 "nbformat_minor": 5
}
